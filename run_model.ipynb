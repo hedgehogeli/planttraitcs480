{
 "cells": [
  {
   "cell_type": "code",
   "execution_count": 1,
   "metadata": {},
   "outputs": [],
   "source": [
    "from data_processing import *\n",
    "from model import *"
   ]
  },
  {
   "cell_type": "code",
   "execution_count": 2,
   "metadata": {},
   "outputs": [],
   "source": [
    "import numpy as np\n",
    "import pandas as pd\n",
    "\n",
    "import torch\n",
    "import torch.nn as nn\n",
    "import torch.optim as optim\n",
    "# import torchvision\n",
    "from torch.utils.data import Dataset, DataLoader\n",
    "\n",
    "# import matplotlib.pyplot as plt\n",
    "# from datetime import datetime\n",
    "# import time\n",
    "import os.path\n",
    "from sklearn.metrics import r2_score"
   ]
  },
  {
   "cell_type": "code",
   "execution_count": 3,
   "metadata": {},
   "outputs": [
    {
     "name": "stdout",
     "output_type": "stream",
     "text": [
      "On CPU\n"
     ]
    }
   ],
   "source": [
    "device = torch.device(\"cuda:0\") if torch.cuda.is_available() else torch.device(\"cpu\")\n",
    "print('On GPU') if device == torch.device(\"cuda:0\") else print('On CPU')"
   ]
  },
  {
   "cell_type": "code",
   "execution_count": 4,
   "metadata": {},
   "outputs": [],
   "source": [
    "class Hyperparameter:\n",
    "    num_predictions: int    = 6\n",
    "\n",
    "    # hyperparams\n",
    "    batch_size: int         = 32\n",
    "    num_epochs: int         = 8\n",
    "    train_test_split: float = 0.9\n",
    "\n",
    "    # bookkeeping\n",
    "    batch_report_gap: int   = 96\n",
    "    sav_model_epoch: bool   = True\n",
    "    vals_per_epoch: int     = 3\n",
    "\n",
    "    # optimizer\n",
    "    learning_rate: float    = 0.0005\n",
    "    lr_decay: float         = 0.9\n",
    "\n",
    "hp = Hyperparameter()"
   ]
  },
  {
   "cell_type": "markdown",
   "metadata": {},
   "source": [
    "# data processing garbage"
   ]
  },
  {
   "cell_type": "code",
   "execution_count": 5,
   "metadata": {},
   "outputs": [
    {
     "name": "stdout",
     "output_type": "stream",
     "text": [
      "(36240, 163) (36240, 6) 1133\n",
      "(4027, 163) (4027, 6) 126\n",
      "(6391, 163) (6391, 6) 200\n"
     ]
    }
   ],
   "source": [
    "dp = DataProcessor()\n",
    "\n",
    "X_IMG_IDS, X_CLEANED, Y_CLEANED = dp.get_and_process_train_data()\n",
    "X_EVAL_IMG_IDS, X_EVAL_NORMALISED = dp.get_and_process_eval_data()\n",
    "\n",
    "TRAIN_IMG_DIR = os.path.join('data', 'train_images')\n",
    "EVAL_IMG_DIR = os.path.join('data', 'test_images')\n",
    "\n",
    "X = np.array(X_CLEANED, dtype=np.float32)#[:1000]\n",
    "Y = np.array(Y_CLEANED, dtype=np.float32)#[:1000]\n",
    "TRAIN_TEST_SPLIT = int(np.round(hp.train_test_split * len(X)))\n",
    "\n",
    "TRAIN_IMG_ID = X_IMG_IDS[:TRAIN_TEST_SPLIT]\n",
    "TRAIN_X = X[:TRAIN_TEST_SPLIT]\n",
    "TRAIN_Y = Y[:TRAIN_TEST_SPLIT]\n",
    "TRAIN_DATASET = CustomDataset(TRAIN_IMG_ID, TRAIN_X, TRAIN_Y, img_dir=TRAIN_IMG_DIR, transform=augment_transform)\n",
    "TRAIN_DATALOADER = DataLoader(TRAIN_DATASET, batch_size=hp.batch_size, shuffle=True)\n",
    "\n",
    "TEST_IMG_ID = X_IMG_IDS[TRAIN_TEST_SPLIT:].reset_index(drop=True)\n",
    "TEST_X = X[TRAIN_TEST_SPLIT:]\n",
    "TEST_Y = Y[TRAIN_TEST_SPLIT:]\n",
    "TEST_DATASET = CustomDataset(TEST_IMG_ID, TEST_X, TEST_Y, img_dir=TRAIN_IMG_DIR, transform=standard_transform)\n",
    "TEST_DATALOADER = DataLoader(TEST_DATASET, batch_size=hp.batch_size, shuffle=False)\n",
    "\n",
    "EVAL_X = np.array(X_EVAL_NORMALISED, dtype=np.float32)\n",
    "EVAL_Y = np.zeros((6391,6), dtype=np.float32) # empty\n",
    "EVAL_DATASET = CustomDataset(X_EVAL_IMG_IDS, EVAL_X, EVAL_Y, img_dir=EVAL_IMG_DIR, transform=standard_transform)\n",
    "EVAL_DATALOADER = DataLoader(EVAL_DATASET, batch_size=hp.batch_size, shuffle=False)\n",
    "\n",
    "print(TRAIN_X.shape, TRAIN_Y.shape, len(TRAIN_DATALOADER))\n",
    "print(TEST_X.shape, TEST_Y.shape, len(TEST_DATALOADER))\n",
    "print(EVAL_X.shape, EVAL_Y.shape, len(EVAL_DATALOADER))\n",
    "\n",
    "# for i in Y_CLEANED.columns:\n",
    "#     dp.hist(dp.train_data[i],bins=50)\n",
    "#     dp.hist(Y_CLEANED[i])\n",
    "#     dp.hist(dp.inv_transform_Y(Y_CLEANED)[i], bins=50)\n",
    "#     print(min(Y_CLEANED[i]), max(Y_CLEANED[i]))\n",
    "\n",
    "# r2_score(Y_CLEANED[TRAIN_TEST_SPLIT:], ) \n"
   ]
  },
  {
   "cell_type": "markdown",
   "metadata": {},
   "source": [
    "# MODEL"
   ]
  },
  {
   "cell_type": "code",
   "execution_count": 6,
   "metadata": {},
   "outputs": [],
   "source": [
    "learn_rate = 0.001\n",
    "learn_decay = 0.9\n",
    "\n",
    "TRAIN_COLUMN_ORDER = ['X4_mean', 'X11_mean', 'X18_mean', 'X26_mean', 'X50_mean', 'X3112_mean']"
   ]
  },
  {
   "cell_type": "code",
   "execution_count": 7,
   "metadata": {},
   "outputs": [],
   "source": [
    "model_to_load = None\n",
    "# model_to_load = os.path.join('model_savs', 'smallboyv3.sav')\n",
    "model = BigBoyV2()\n",
    "if model_to_load:\n",
    "    model.load_state_dict(torch.load(model_to_load))\n",
    "model.eval()\n",
    "model.to(device)\n",
    "\n",
    "optimizer = optim.AdamW(model.parameters(), lr=learn_rate, weight_decay=0.02)\n",
    "lambda_lr = lambda step: learn_decay ** step\n",
    "scheduler = optim.lr_scheduler.LambdaLR(optimizer, lr_lambda=lambda_lr)\n",
    "criterion = nn.MSELoss()\n",
    "\n",
    "bk = BookKeeper(batches_per_epoch=len(TRAIN_DATALOADER))"
   ]
  },
  {
   "cell_type": "code",
   "execution_count": 8,
   "metadata": {},
   "outputs": [],
   "source": [
    "# for img, data, target in TRAIN_DATALOADER:\n",
    "#     a = model(img, data)\n",
    "#     print(a.shape)\n",
    "#     break"
   ]
  },
  {
   "cell_type": "code",
   "execution_count": 9,
   "metadata": {},
   "outputs": [],
   "source": [
    "def validate(test_dataloader):\n",
    "    model.eval()\n",
    "\n",
    "    test_loss = []\n",
    "    acc_predictions = [] # hold onto predictions and targets for R2\n",
    "    acc_targets = []\n",
    "\n",
    "    with torch.no_grad():\n",
    "        for images, data, target in test_dataloader:\n",
    "\n",
    "            images = images.to(device)\n",
    "            data = data.to(device)\n",
    "            target = target.to(device)\n",
    "\n",
    "            prediction = model(images, data)\n",
    "            loss = criterion(prediction, target).item()\n",
    "            test_loss.append(loss)\n",
    "\n",
    "            acc_predictions.append(prediction)\n",
    "            acc_targets.append(target)\n",
    "\n",
    "    test_loss = np.mean(test_loss) # / len(test_dataloader)\n",
    "\n",
    "    # calculate R2 of transformed Y\n",
    "    acc_targets_cpu = [tensor.cpu().numpy() for tensor in acc_targets]\n",
    "    acc_predictions_cpu = [tensor.cpu().numpy() for tensor in acc_predictions]\n",
    "    targets = np.concatenate(acc_targets_cpu)\n",
    "    predictions = np.concatenate(acc_predictions_cpu)\n",
    "    transformed_r2 = r2_score(targets, predictions)\n",
    "\n",
    "    try: # calculate R2 after inverse Y transform\n",
    "        target_df = pd.DataFrame(targets, columns=TRAIN_COLUMN_ORDER)\n",
    "        pred_df = pd.DataFrame(predictions, columns=TRAIN_COLUMN_ORDER)\n",
    "        actual_target_df = dp.inv_transform_Y(target_df)\n",
    "        actual_pred_df = dp.inv_transform_Y(pred_df)\n",
    "        actual_r2 = r2_score(actual_target_df, actual_pred_df)\n",
    "    except:\n",
    "        actual_r2 = -1000\n",
    "\n",
    "    return test_loss, transformed_r2, actual_r2"
   ]
  },
  {
   "cell_type": "code",
   "execution_count": 10,
   "metadata": {},
   "outputs": [],
   "source": [
    "def train_one_epoch(train_dataloader, test_dataloader):\n",
    "    model.train()\n",
    "\n",
    "    running_loss = []\n",
    "\n",
    "    for batch_idx, (images, data, target) in enumerate(train_dataloader):\n",
    "        \n",
    "        optimizer.zero_grad()\n",
    "\n",
    "        images = images.to(device)\n",
    "        data = data.to(device)\n",
    "        target = target.to(device)\n",
    "\n",
    "        prediction = model(images, data)\n",
    "        loss = criterion(prediction, target)\n",
    "\n",
    "        loss.backward()\n",
    "        optimizer.step()\n",
    "\n",
    "        bk.tick_batch(loss.item())\n",
    "        running_loss.append(loss.item())\n",
    "\n",
    "        # if batch_idx > len(train_dataloader)//3:\n",
    "        #     break # just train on a third of shuffled data every epoch\n",
    "\n",
    "    scheduler.step() # STEPPING SCHEDULER 3x PER EPOCH\n",
    "\n",
    "    test_loss, transformed_r2, actual_r2 = validate(test_dataloader)\n",
    "    train_loss = np.array(running_loss).mean()\n",
    "    bk.tick_epoch(train_loss, test_loss, transformed_r2, actual_r2)\n",
    "\n",
    "    bk.show_plots() # plot every epoch\n",
    "\n",
    "    return train_loss, test_loss, transformed_r2, actual_r2"
   ]
  },
  {
   "cell_type": "code",
   "execution_count": 11,
   "metadata": {},
   "outputs": [],
   "source": [
    "def predict(dataloader):\n",
    "    model.eval()\n",
    "    predictions = []\n",
    "\n",
    "    with torch.no_grad():\n",
    "        for images, data, _ in dataloader:\n",
    "            images = images.to(device)\n",
    "            data = data.to(device)\n",
    "            \n",
    "            prediction = model(images, data).detach().cpu().numpy()\n",
    "            predictions.append(prediction) # X4,X11,X18,X26,X50,X3112\n",
    "\n",
    "    all_predictions_np = np.concatenate(predictions, axis=0)\n",
    "    df = pd.DataFrame(all_predictions_np, columns=TRAIN_COLUMN_ORDER)\n",
    "    # df = df[['X4', 'X11', 'X18', 'X50', 'X26', 'X3112']] # format to id,X4,X11,X18,X50,X26,X3112\n",
    "\n",
    "    # final_df = pd.concat([img_id, df], axis=1)\n",
    "    return df\n",
    "\n",
    "def predict_with_imgid(img_id, dataloader):\n",
    "    df = dp.inv_transform_Y(predict(dataloader))\n",
    "    return pd.concat([img_id, df], axis=1)"
   ]
  },
  {
   "cell_type": "markdown",
   "metadata": {},
   "source": [
    "# RUNNING THE MODEL"
   ]
  },
  {
   "cell_type": "code",
   "execution_count": 12,
   "metadata": {},
   "outputs": [],
   "source": [
    "df = []"
   ]
  },
  {
   "cell_type": "code",
   "execution_count": 13,
   "metadata": {},
   "outputs": [
    {
     "name": "stdout",
     "output_type": "stream",
     "text": [
      "Epoch  0.00 Batch  200 0.8268267650353281 00:22:59\n",
      "Epoch  0.00 Batch  400 0.7981523836270357 00:25:50\n",
      "Epoch  0.00 Batch  600 0.7836622066416983 00:28:49\n",
      "Epoch  0.00 Batch  800 0.7748223765741421 00:31:37\n",
      "Epoch  0.00 Batch  1000 0.7688932480535122 00:34:27\n",
      "### Epoch  1.00 | train_loss 0.7670838691077186 test_loss 0.7423838887895856 test_r2 0.1626719380067811 actual_r2 0.04886753444767276\n",
      "\n"
     ]
    },
    {
     "data": {
      "image/png": "[encoded data removed]",
      "text/plain": [
       "<Figure size 1000x300 with 1 Axes>"
      ]
     },
     "metadata": {},
     "output_type": "display_data"
    },
    {
     "data": {
      "image/png": "[encoded data removed]",
      "text/plain": [
       "<Figure size 1000x300 with 1 Axes>"
      ]
     },
     "metadata": {},
     "output_type": "display_data"
    },
    {
     "data": {
      "image/png": "[encoded data removed]",
      "text/plain": [
       "<Figure size 1000x300 with 1 Axes>"
      ]
     },
     "metadata": {},
     "output_type": "display_data"
    },
    {
     "data": {
      "image/png": "[encoded data removed]",
      "text/plain": [
       "<Figure size 1000x300 with 1 Axes>"
      ]
     },
     "metadata": {},
     "output_type": "display_data"
    },
    {
     "name": "stdout",
     "output_type": "stream",
     "text": [
      "             id   X4_mean    X11_mean      X18_mean     X26_mean   X50_mean  \\\n",
      "0     154220505  1.068464  147.787864  19704.383334  3477.128057  14.880816   \n",
      "1     195736552  1.031670  147.908826  19700.638953  3463.628581  14.891843   \n",
      "2     182701773  0.949815  151.711690  19699.331456  3460.224881  14.793091   \n",
      "3      27688500  1.009891  147.010008  19699.641006  3461.185495  15.039540   \n",
      "4     195825045  0.971717  149.929398  19699.437619  3460.513691  14.866252   \n",
      "...         ...       ...         ...           ...          ...        ...   \n",
      "6386  195615880  0.964670  151.345904  19699.513518  3460.485323  14.734209   \n",
      "6387  126224052  1.014800  147.199804  19699.743514  3461.352933  14.996856   \n",
      "6388  178518157  1.055752  147.163824  19701.610972  3467.006584  14.948535   \n",
      "6389  158746703  1.057089  147.649583  19702.419784  3469.833397  14.902572   \n",
      "6390  104965612  0.980768  149.107355  19699.453380  3460.633717  14.928730   \n",
      "\n",
      "         X3112_mean  \n",
      "0     400940.060801  \n",
      "1     398747.055702  \n",
      "2     397944.368269  \n",
      "3     398029.988023  \n",
      "4     397994.558069  \n",
      "...             ...  \n",
      "6386  398098.723657  \n",
      "6387  398110.910239  \n",
      "6388  399199.375064  \n",
      "6389  399801.133737  \n",
      "6390  397983.285397  \n",
      "\n",
      "[6391 rows x 7 columns]\n"
     ]
    }
   ],
   "source": [
    "epochs = 1\n",
    "\n",
    "for e in range(epochs):\n",
    "    _,_,_,r2 = train_one_epoch(TRAIN_DATALOADER, TEST_DATALOADER)\n",
    "    pred = predict_with_imgid(X_EVAL_IMG_IDS, EVAL_DATALOADER)\n",
    "    df.append((r2,pred))\n",
    "    print(pred)\n",
    "\n",
    "    if r2 > 0.15:\n",
    "        filename = 'bigboyv2_' + datetime.now().strftime(\"%Y-%m-%d_%H-%M-%S\") + '.sav'\n",
    "        torch.save(model.state_dict(), os.path.join('model_savs', filename))"
   ]
  },
  {
   "cell_type": "code",
   "execution_count": 14,
   "metadata": {},
   "outputs": [
    {
     "name": "stdout",
     "output_type": "stream",
     "text": [
      "             id        X4         X11           X18          X26        X50  \\\n",
      "0     154220505  1.068464  147.787864  19704.383334  3477.128057  14.880816   \n",
      "1     195736552  1.031670  147.908826  19700.638953  3463.628581  14.891843   \n",
      "2     182701773  0.949815  151.711690  19699.331456  3460.224881  14.793091   \n",
      "3      27688500  1.009891  147.010008  19699.641006  3461.185495  15.039540   \n",
      "4     195825045  0.971717  149.929398  19699.437619  3460.513691  14.866252   \n",
      "...         ...       ...         ...           ...          ...        ...   \n",
      "6386  195615880  0.964670  151.345904  19699.513518  3460.485323  14.734209   \n",
      "6387  126224052  1.014800  147.199804  19699.743514  3461.352933  14.996856   \n",
      "6388  178518157  1.055752  147.163824  19701.610972  3467.006584  14.948535   \n",
      "6389  158746703  1.057089  147.649583  19702.419784  3469.833397  14.902572   \n",
      "6390  104965612  0.980768  149.107355  19699.453380  3460.633717  14.928730   \n",
      "\n",
      "              X3112  \n",
      "0     400940.060801  \n",
      "1     398747.055702  \n",
      "2     397944.368269  \n",
      "3     398029.988023  \n",
      "4     397994.558069  \n",
      "...             ...  \n",
      "6386  398098.723657  \n",
      "6387  398110.910239  \n",
      "6388  399199.375064  \n",
      "6389  399801.133737  \n",
      "6390  397983.285397  \n",
      "\n",
      "[6391 rows x 7 columns]\n"
     ]
    }
   ],
   "source": [
    "prediction = df[-1][1]\n",
    "# p = prediction.copy().rename(columns={'X4':'X4_mean', 'X11':'X11_mean', 'X18':'X18_mean', 'X26':'X26_mean', 'X50':'X50_mean', 'X3112':'X3112_mean'})\n",
    "# p[['X4_mean', 'X11_mean', 'X18_mean', 'X26_mean', 'X50_mean', 'X3112_mean']] = dp.inv_transform_Y(p[['X4_mean', 'X11_mean', 'X18_mean', 'X26_mean', 'X50_mean', 'X3112_mean']])\n",
    "# p = p[['id', 'X4_mean', 'X11_mean', 'X18_mean', 'X50_mean', 'X26_mean', 'X3112_mean']]\n",
    "p = prediction.rename(columns={'X4_mean':'X4', 'X11_mean':'X11', 'X18_mean':'X18', 'X26_mean':'X26', 'X50_mean':'X50', 'X3112_mean':'X3112'})\n",
    "print(p)\n",
    "p.to_csv('tellmeitspositive.csv', index=False)"
   ]
  },
  {
   "cell_type": "code",
   "execution_count": 15,
   "metadata": {},
   "outputs": [
    {
     "ename": "NameError",
     "evalue": "name 'catch' is not defined",
     "output_type": "error",
     "traceback": [
      "\u001b[1;31m---------------------------------------------------------------------------\u001b[0m",
      "\u001b[1;31mNameError\u001b[0m                                 Traceback (most recent call last)",
      "Cell \u001b[1;32mIn[15], line 1\u001b[0m\n\u001b[1;32m----> 1\u001b[0m \u001b[43mcatch\u001b[49m\n",
      "\u001b[1;31mNameError\u001b[0m: name 'catch' is not defined"
     ]
    }
   ],
   "source": [
    "catch"
   ]
  },
  {
   "cell_type": "code",
   "execution_count": null,
   "metadata": {},
   "outputs": [],
   "source": [
    "torch.save(model.state_dict(), os.path.join('model_savs', 'TESTSAVTIMM.sav'))"
   ]
  },
  {
   "cell_type": "code",
   "execution_count": null,
   "metadata": {},
   "outputs": [
    {
     "data": {
      "text/plain": [
       "<All keys matched successfully>"
      ]
     },
     "execution_count": 17,
     "metadata": {},
     "output_type": "execute_result"
    }
   ],
   "source": [
    "loadmodel = BigBoyV2()\n",
    "\n",
    "loadmodel.load_state_dict(torch.load(os.path.join('model_savs', 'TESTSAVTIMM.sav')))"
   ]
  },
  {
   "cell_type": "code",
   "execution_count": null,
   "metadata": {},
   "outputs": [],
   "source": [
    "for img, data, target in TRAIN_DATALOADER:\n",
    "    loadmodel(img,data)\n",
    "    break"
   ]
  },
  {
   "cell_type": "code",
   "execution_count": null,
   "metadata": {},
   "outputs": [
    {
     "data": {
      "image/png": "[encoded data removed]",
      "text/plain": [
       "<Figure size 1000x200 with 1 Axes>"
      ]
     },
     "metadata": {},
     "output_type": "display_data"
    }
   ],
   "source": [
    "dp.hist(df[-1][1]['X11_mean'])"
   ]
  },
  {
   "cell_type": "code",
   "execution_count": null,
   "metadata": {},
   "outputs": [
    {
     "ename": "NameError",
     "evalue": "name 'catch' is not defined",
     "output_type": "error",
     "traceback": [
      "\u001b[1;31m---------------------------------------------------------------------------\u001b[0m",
      "\u001b[1;31mNameError\u001b[0m                                 Traceback (most recent call last)",
      "Cell \u001b[1;32mIn[14], line 1\u001b[0m\n\u001b[1;32m----> 1\u001b[0m \u001b[43mcatch\u001b[49m\n",
      "\u001b[1;31mNameError\u001b[0m: name 'catch' is not defined"
     ]
    }
   ],
   "source": [
    "catch"
   ]
  },
  {
   "cell_type": "code",
   "execution_count": null,
   "metadata": {},
   "outputs": [],
   "source": [
    "# model_to_load = None\n",
    "# # model_to_load = os.path.join('model_savs', 'smallboyv3.sav')\n",
    "\n",
    "# model = Model(device=device, batches_per_epoch=len(TRAIN_DATALOADER), dataprocessor=dp)\n",
    "# if model_to_load:\n",
    "#     model.load_state_dict(torch.load(os.path.join('model_savs', 'smallboyv3.sav')))\n",
    "# model.eval()\n",
    "# model.to(device)\n",
    "\n",
    "# df = []"
   ]
  },
  {
   "cell_type": "code",
   "execution_count": null,
   "metadata": {},
   "outputs": [],
   "source": [
    "# training loop needs to be moved out \n",
    "# can keep the actual model definitions outside, but the loop needs to be in, i think smth smells funky"
   ]
  },
  {
   "cell_type": "code",
   "execution_count": null,
   "metadata": {},
   "outputs": [],
   "source": [
    "# epochs = 21\n",
    "\n",
    "# for e in range(epochs):\n",
    "#     _,_,_,r2 = model.train_one_epoch(TRAIN_DATALOADER, TEST_DATALOADER)\n",
    "#     pred = model.predict_with_imgid(X_EVAL_IMG_IDS, EVAL_DATALOADER)\n",
    "#     df.append((r2,pred))\n",
    "#     print(pred)\n",
    "\n",
    "#     if np.abs(r2) < 100:\n",
    "#         filename = 'smallboyv3_' + datetime.now().strftime(\"%Y-%m-%d_%H-%M-%S\") + '.sav'\n",
    "#         torch.save(model.state_dict(), os.path.join('model_savs', filename))"
   ]
  },
  {
   "cell_type": "code",
   "execution_count": null,
   "metadata": {},
   "outputs": [],
   "source": [
    "r2s = [a[0] for a in df]\n",
    "sorted(r2s)"
   ]
  },
  {
   "cell_type": "code",
   "execution_count": null,
   "metadata": {},
   "outputs": [],
   "source": [
    "prediction = model.predict(X_EVAL_IMG_IDS, EVAL_DATALOADER)"
   ]
  },
  {
   "cell_type": "code",
   "execution_count": null,
   "metadata": {},
   "outputs": [],
   "source": [
    "# prediction = df[0]\n",
    "p = prediction.copy().rename(columns={'X4':'X4_mean', 'X11':'X11_mean', 'X18':'X18_mean', 'X26':'X26_mean', 'X50':'X50_mean', 'X3112':'X3112_mean'})\n",
    "p[['X4_mean', 'X11_mean', 'X18_mean', 'X26_mean', 'X50_mean', 'X3112_mean']] = dp.inv_transform_Y(p[['X4_mean', 'X11_mean', 'X18_mean', 'X26_mean', 'X50_mean', 'X3112_mean']])\n",
    "p = p[['id', 'X4_mean', 'X11_mean', 'X18_mean', 'X50_mean', 'X26_mean', 'X3112_mean']]\n",
    "p = p.rename(columns={'X4_mean':'X4', 'X11_mean':'X11', 'X18_mean':'X18', 'X26_mean':'X26', 'X50_mean':'X50', 'X3112_mean':'X3112'})\n",
    "# p.to_csv('smallboyv3preliminary', index=False)\n",
    "p\n",
    "# plt.hist(p['X4_mean'], bins=50)\n",
    "# plt.show()\n"
   ]
  },
  {
   "cell_type": "code",
   "execution_count": null,
   "metadata": {},
   "outputs": [],
   "source": [
    "# REMEMBER TO UNTRUNCATE X AND Y FROM 1000\n",
    "\n",
    "# filename = 'pred_' + datetime.now().strftime(\"%Y-%m-%d_%H-%M-%S\") + '.csv'\n",
    "# final_df.to_csv(filename, index=False)\n",
    "\n",
    "torch.save(model.state_dict(), os.path.join('model_savs', f\"smallboyv3.sav\"))"
   ]
  },
  {
   "cell_type": "code",
   "execution_count": null,
   "metadata": {},
   "outputs": [],
   "source": [
    "dp.train_data[dp.train_data.columns[164:]]"
   ]
  }
 ],
 "metadata": {
  "kernelspec": {
   "display_name": "cs480",
   "language": "python",
   "name": "python3"
  },
  "language_info": {
   "codemirror_mode": {
    "name": "ipython",
    "version": 3
   },
   "file_extension": ".py",
   "mimetype": "text/x-python",
   "name": "python",
   "nbconvert_exporter": "python",
   "pygments_lexer": "ipython3",
   "version": "3.10.9"
  }
 },
 "nbformat": 4,
 "nbformat_minor": 2
}
