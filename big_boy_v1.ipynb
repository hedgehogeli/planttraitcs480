{
 "cells": [
  {
   "cell_type": "markdown",
   "metadata": {},
   "source": [
    "### Attempt 2\n",
    "\n",
    "VGG16 with residuals, and attention for numerical data. \n",
    "\n",
    "CNN's linear head is kneecapped to dimension reduction, 2 components feed into one linear head. "
   ]
  },
  {
   "cell_type": "code",
   "execution_count": 1,
   "metadata": {},
   "outputs": [],
   "source": [
    "import numpy as np\n",
    "import pandas as pd\n",
    "\n",
    "import torch\n",
    "import torch.nn as nn\n",
    "import torch.nn.functional as F\n",
    "import torch.optim as optim\n",
    "import torchvision\n",
    "from torch.utils.data import Dataset, DataLoader\n",
    "\n",
    "import matplotlib.pyplot as plt\n",
    "from datetime import datetime\n",
    "import time\n",
    "import os.path\n",
    "from sklearn.metrics import r2_score"
   ]
  },
  {
   "cell_type": "code",
   "execution_count": 2,
   "metadata": {},
   "outputs": [],
   "source": [
    "# colab stuff\n",
    "\n",
    "# ! pip install -q kaggle\n",
    "# from google.colab import files\n",
    "# files.upload()"
   ]
  },
  {
   "cell_type": "code",
   "execution_count": 3,
   "metadata": {},
   "outputs": [],
   "source": [
    "# ! mkdir ~/.kaggle\n",
    "# ! cp kaggle.json ~/.kaggle/\n",
    "# ! chmod 600 ~/.kaggle/kaggle.json\n",
    "# ! kaggle competitions download -c cs-480-2024-spring\n",
    "# ! mkdir data\n",
    "# ! unzip -q cs-480-2024-spring.zip -d data"
   ]
  },
  {
   "cell_type": "code",
   "execution_count": 4,
   "metadata": {},
   "outputs": [
    {
     "name": "stdout",
     "output_type": "stream",
     "text": [
      "On CPU\n"
     ]
    }
   ],
   "source": [
    "device = torch.device(\"cuda:0\") if torch.cuda.is_available() else torch.device(\"cpu\")\n",
    "\n",
    "if device == torch.device(\"cuda:0\"):\n",
    "  print('On GPU')\n",
    "else:\n",
    "  print('On CPU')"
   ]
  },
  {
   "cell_type": "code",
   "execution_count": 5,
   "metadata": {},
   "outputs": [],
   "source": [
    "class Hyperparameter:\n",
    "    num_predictions: int    = 6\n",
    "\n",
    "    # hyperparams\n",
    "    batch_size: int         = 64\n",
    "    num_epochs: int         = 5\n",
    "\n",
    "    vgg_output_size: int    = 128\n",
    "    fc_output_size: int     = 128\n",
    "\n",
    "    # bookkeeping\n",
    "    batch_report_gap: int   = 100\n",
    "    sav_model_epoch: bool   = True\n",
    "\n",
    "    # optimizer\n",
    "    learning_rate: float    = 0.001\n",
    "\n",
    "\n",
    "hp = Hyperparameter()"
   ]
  },
  {
   "cell_type": "markdown",
   "metadata": {},
   "source": [
    "## Data Manips"
   ]
  },
  {
   "cell_type": "code",
   "execution_count": null,
   "metadata": {},
   "outputs": [],
   "source": [
    "transform = torchvision.transforms.Compose([\n",
    "    torchvision.transforms.ToTensor(),\n",
    "    torchvision.transforms.RandomHorizontalFlip(p=0.2),\n",
    "    ])\n",
    "# TODO: transform some gaussian noise"
   ]
  },
  {
   "cell_type": "code",
   "execution_count": 7,
   "metadata": {},
   "outputs": [],
   "source": [
    "class CustomDataset(Dataset):\n",
    "    def __init__(self, img_id, data, target, img_dir, transform=None):\n",
    "        self.img_id = img_id\n",
    "        self.data_frame = data\n",
    "        self.target = target\n",
    "        self.img_dir = img_dir\n",
    "        self.transform = transform\n",
    "\n",
    "    def __len__(self):\n",
    "        return len(self.data_frame)\n",
    "\n",
    "    def __getitem__(self, idx):\n",
    "        img_name = os.path.join(self.img_dir, f\"{self.img_id[idx]}.jpeg\")\n",
    "        image = np.array(plt.imread(img_name), dtype=np.float32)\n",
    "        if self.transform:\n",
    "            image = self.transform(image)\n",
    "\n",
    "        training_data = torch.tensor(self.data_frame[idx])\n",
    "        target_data = torch.tensor(self.target[idx])\n",
    "\n",
    "        return image, training_data, target_data\n"
   ]
  },
  {
   "cell_type": "code",
   "execution_count": 8,
   "metadata": {},
   "outputs": [
    {
     "data": {
      "text/plain": [
       "(850, 150, 14, 3)"
      ]
     },
     "execution_count": 8,
     "metadata": {},
     "output_type": "execute_result"
    }
   ],
   "source": [
    "train_data = pd.read_csv('data\\\\train.csv')\n",
    "IMG_ID = train_data['id']\n",
    "X = np.array(train_data, dtype=np.float32)[:, 1:-6]\n",
    "Y = np.array(train_data, dtype=np.float32)[:, -6:]\n",
    "\n",
    "# X = X[:1000]\n",
    "# Y = Y[:1000]\n",
    "\n",
    "split_index = int(np.round(0.85 * len(X)))\n",
    "\n",
    "train_img_id = IMG_ID[:split_index]\n",
    "train_x = X[:split_index]\n",
    "train_y = Y[:split_index]\n",
    "train_dataset = CustomDataset(train_img_id, train_x, train_y, img_dir='data\\\\train_images', transform=transform)\n",
    "train_dataloader = DataLoader(train_dataset, batch_size=hp.batch_size, shuffle=True)\n",
    "\n",
    "test_img_id = IMG_ID[split_index:].reset_index(drop=True)\n",
    "test_x = X[split_index:]\n",
    "test_y = Y[split_index:]\n",
    "test_dataset = CustomDataset(test_img_id, test_x, test_y, img_dir='data\\\\train_images', transform=transform)\n",
    "test_dataloader = DataLoader(test_dataset, batch_size=hp.batch_size, shuffle=False)\n",
    "\n",
    "len(train_x), len(test_x), len(train_dataloader), len(test_dataloader)"
   ]
  },
  {
   "cell_type": "code",
   "execution_count": null,
   "metadata": {},
   "outputs": [],
   "source": [
    "# kaggle test data (no target given)\n",
    "evaluation_data = pd.read_csv('data\\\\test.csv')\n",
    "eval_img_id = evaluation_data['id']\n",
    "eval_x = np.array(evaluation_data, dtype=np.float32)\n",
    "eval_y = np.zeros((6391,6), dtype=np.float32) # empty\n",
    "\n",
    "eval_dataset = CustomDataset(eval_img_id, eval_x, eval_y, img_dir='data\\\\test_images', transform=transform)\n",
    "eval_dataloader = DataLoader(eval_dataset, batch_size=hp.batch_size, shuffle=False)"
   ]
  },
  {
   "cell_type": "markdown",
   "metadata": {},
   "source": [
    "# MODEL"
   ]
  },
  {
   "cell_type": "markdown",
   "metadata": {},
   "source": [
    "### VGG16 with Residuals"
   ]
  },
  {
   "cell_type": "code",
   "execution_count": 10,
   "metadata": {},
   "outputs": [],
   "source": [
    "class ResidualBlock(nn.Module):\n",
    "    def __init__(self, in_channels, out_channels):\n",
    "        super(ResidualBlock, self).__init__()\n",
    "        \n",
    "        self.conv_block = nn.Sequential(\n",
    "            nn.Conv2d(in_channels, out_channels, kernel_size=3, padding=1),\n",
    "            nn.BatchNorm2d(out_channels),\n",
    "            nn.Conv2d(out_channels, out_channels, kernel_size=3, padding=1),\n",
    "            nn.BatchNorm2d(out_channels),\n",
    "            nn.ReLU(inplace=True)\n",
    "        )\n",
    "\n",
    "        # handle residual identity passthrough if in/out dimensions mismatch\n",
    "        self.downsample = None\n",
    "        if in_channels != out_channels:\n",
    "            self.downsample = nn.Sequential(\n",
    "                nn.Conv2d(in_channels, out_channels, kernel_size=1),\n",
    "                nn.BatchNorm2d(out_channels)\n",
    "            )\n",
    "        \n",
    "        self.relu = nn.ReLU(inplace=True)\n",
    "\n",
    "    def forward(self, x):\n",
    "        identity = x\n",
    "        if self.downsample is not None:\n",
    "            identity = self.downsample(x)\n",
    "\n",
    "        out = self.conv_block(x) + identity\n",
    "        out = self.relu(out)\n",
    "        return out"
   ]
  },
  {
   "cell_type": "code",
   "execution_count": 11,
   "metadata": {},
   "outputs": [],
   "source": [
    "class ResidualVGG16(nn.Module):\n",
    "    def __init__(self):\n",
    "        super(ResidualVGG16, self).__init__()\n",
    "        self.cnn = nn.Sequential(\n",
    "            ResidualBlock(3, 64),\n",
    "            nn.MaxPool2d(kernel_size=2, stride=2),\n",
    "            ResidualBlock(64, 128),\n",
    "            nn.MaxPool2d(kernel_size=2, stride=2),\n",
    "            ResidualBlock(128, 256),\n",
    "            ResidualBlock(256, 256),\n",
    "            nn.MaxPool2d(kernel_size=2, stride=2),\n",
    "            ResidualBlock(256, 512),\n",
    "            ResidualBlock(512, 512),\n",
    "            nn.MaxPool2d(kernel_size=2, stride=2),\n",
    "            ResidualBlock(512, 512),\n",
    "            ResidualBlock(512, 512),\n",
    "            nn.MaxPool2d(kernel_size=2, stride=2),\n",
    "        )\n",
    "        self.linear_head = nn.Sequential(\n",
    "            nn.Linear(512 * 4 * 4, 4096),\n",
    "            nn.ReLU(inplace=True),\n",
    "            nn.Dropout(0.5),\n",
    "            nn.Linear(4096, 2048),\n",
    "            nn.ReLU(inplace=True),\n",
    "            nn.Dropout(0.5),\n",
    "            nn.Linear(2048, 1024),\n",
    "        )\n",
    "\n",
    "    def forward(self, x):\n",
    "        x = self.cnn(x)\n",
    "        x = x.view(x.size(0), -1)\n",
    "        x = self.linear_head(x)\n",
    "        return x\n"
   ]
  },
  {
   "cell_type": "markdown",
   "metadata": {},
   "source": [
    "### Attention structure for numerical data"
   ]
  },
  {
   "cell_type": "code",
   "execution_count": 12,
   "metadata": {},
   "outputs": [],
   "source": [
    "class Attention(nn.Module):\n",
    "    def __init__(self, feature_dim, step_dim, bias=True):\n",
    "        super(Attention, self).__init__()\n",
    "        self.feature_dim = feature_dim\n",
    "        self.step_dim = step_dim\n",
    "        self.bias = bias\n",
    "        self.weight = nn.Parameter(torch.Tensor(feature_dim, 1))\n",
    "        if bias:\n",
    "            self.b = nn.Parameter(torch.Tensor(step_dim))\n",
    "        nn.init.xavier_uniform_(self.weight)\n",
    "\n",
    "    def forward(self, x):\n",
    "        eij = torch.matmul(x, self.weight).squeeze(2)\n",
    "        if self.bias:\n",
    "            eij = eij + self.b\n",
    "        a = torch.tanh(eij)\n",
    "        a = torch.exp(a)\n",
    "        a = a / torch.sum(a, 1, keepdim=True)\n",
    "        weighted_input = x * a.unsqueeze(-1)\n",
    "        return torch.sum(weighted_input, 1)"
   ]
  },
  {
   "cell_type": "code",
   "execution_count": 13,
   "metadata": {},
   "outputs": [],
   "source": [
    "class MultiAttention(nn.Module):\n",
    "    def __init__(self, feature_dim):\n",
    "        super(MultiAttention, self).__init__()\n",
    "        self.attention1 = Attention(feature_dim, step_dim=1)\n",
    "        self.attention2 = Attention(feature_dim, step_dim=1)\n",
    "        self.attention3 = Attention(feature_dim, step_dim=1)\n",
    "\n",
    "    def forward(self, x):\n",
    "        x1 = self.attention1(x.unsqueeze(1))\n",
    "        x2 = self.attention2(x1.unsqueeze(1))\n",
    "        x3 = self.attention3(x2.unsqueeze(1))\n",
    "        return x3"
   ]
  },
  {
   "cell_type": "code",
   "execution_count": 14,
   "metadata": {},
   "outputs": [],
   "source": [
    "class BigBoy(nn.Module):\n",
    "    def __init__(self):\n",
    "        super(BigBoy, self).__init__()\n",
    "\n",
    "        self.cnn = ResidualVGG16()\n",
    "        self.cnn_block = nn.Sequential(\n",
    "            self.cnn,\n",
    "            nn.Linear(1024, 128), # output of VGG16 is 1024, into 128\n",
    "            nn.ReLU(inplace=True)\n",
    "        )\n",
    "        \n",
    "        self.data_multiheadattention = MultiAttention(feature_dim=163)\n",
    "        self.data_block = nn.Sequential(\n",
    "            self.data_multiheadattention,\n",
    "            nn.Linear(163, 128), \n",
    "            nn.ReLU(inplace=True)\n",
    "        )\n",
    "\n",
    "        self.combiner_multiheadattn_block = nn.MultiheadAttention(embed_dim=256, num_heads=8, batch_first=True)\n",
    "\n",
    "        \n",
    "        self.linear_head = nn.Sequential(\n",
    "            nn.Linear(256, 128), \n",
    "            nn.ReLU(inplace=True),\n",
    "            nn.Dropout(0.5),\n",
    "            nn.Linear(128, 64), \n",
    "            nn.ReLU(inplace=True),\n",
    "            nn.Dropout(0.5),\n",
    "            nn.Linear(64, 6)\n",
    "        )\n",
    "\n",
    "    def forward(self, image, data):\n",
    "        processed_image = self.cnn_block(image)\n",
    "        processed_data = self.data_block(data) \n",
    "\n",
    "        combined_features = torch.cat((processed_image, processed_data), dim=1)\n",
    "        \n",
    "        attn_output, _ = self.combiner_multiheadattn_block(combined_features, combined_features, combined_features)\n",
    "        \n",
    "        out = self.linear_head(attn_output)\n",
    "        return out"
   ]
  },
  {
   "cell_type": "code",
   "execution_count": 15,
   "metadata": {},
   "outputs": [],
   "source": [
    "# model = BigBoy()\n",
    "\n",
    "# for image, data, target in train_dataloader:\n",
    "#     print(model(image, data).shape)\n",
    "#     break"
   ]
  },
  {
   "cell_type": "markdown",
   "metadata": {},
   "source": [
    "# Model training and stuff"
   ]
  },
  {
   "cell_type": "code",
   "execution_count": 16,
   "metadata": {},
   "outputs": [],
   "source": [
    "# bookkeeping block\n",
    "\n",
    "class bookkeeper():\n",
    "    def __init__(self, key_lst, total_batches):\n",
    "\n",
    "        # graphs\n",
    "        self.lists = {}\n",
    "        for key in key_lst:\n",
    "            self.lists[key] = []\n",
    "        \n",
    "        self.batch_loss_list = []\n",
    "\n",
    "        # timer \n",
    "        self.start_time = time.time()\n",
    "        self.total_batches = total_batches\n",
    "        self.local_batches_completed = 0\n",
    "        self.batches_completed = 0\n",
    "        self.epochs_completed = 0\n",
    "\n",
    "    def append(self, key, val):\n",
    "        self.lists[key].append(val)\n",
    "\n",
    "    def plot(self):\n",
    "        for k in self.lists:\n",
    "            if k != 'epoch':\n",
    "                plt.title(k)\n",
    "                plt.plot(self.lists['epoch'][1:], self.lists[k][1:]) #ignore 1st entry, too big\n",
    "                plt.show()\n",
    "\n",
    "        # plot batch loss moving average of window size 5:\n",
    "        data_series = pd.Series(self.batch_loss_list)\n",
    "        moving_average = data_series.rolling(window=10, center=False).mean()\n",
    "        plt.plot(moving_average, label='batch loss (mv avg 10)')\n",
    "        plt.show()\n",
    "\n",
    "\n",
    "    def reset_timer(self):\n",
    "        self.start_time = time.time()\n",
    "    \n",
    "    def elapsed_time(self):\n",
    "        elapsed = time.time() - self.start_time\n",
    "        hours, rem = divmod(elapsed, 3600)\n",
    "        minutes, seconds = divmod(rem, 60)\n",
    "        return 'ELAPSED: ' + f\"{int(hours):02}h {int(minutes):02}m {int(seconds):02}s\"\n",
    "\n",
    "    def eta(self):\n",
    "        progress = (self.batches_completed+1) / self.total_batches\n",
    "        elapsed = time.time() - self.start_time\n",
    "        work_rate = elapsed / progress\n",
    "        remaining_work = self.total_batches - self.batches_completed\n",
    "        eta = time.time() + (remaining_work / work_rate)\n",
    "        formatted_eta = datetime.fromtimestamp(eta).strftime(\"%H:%M:%S\")\n",
    "        return 'ETA: ' + formatted_eta\n",
    "    \n",
    "    \n",
    "    def tick_batch(self, batch_loss):\n",
    "        self.local_batches_completed += 1\n",
    "        self.batches_completed += 1\n",
    "\n",
    "        self.batch_loss_list.append(batch_loss)\n",
    "\n",
    "        if self.batches_completed % hp.batch_report_gap == 0:\n",
    "            print('Epoch', self.epochs_completed,\n",
    "                  'Batch', f\"{self.local_batches_completed:03}\", \n",
    "                  batch_loss, '|',\n",
    "                  self.elapsed_time(), '|',\n",
    "                  self.eta())\n",
    "\n",
    "    def tick_epoch(self, train_loss, test_loss, r2):\n",
    "        self.epochs_completed += 1\n",
    "        self.local_batches_completed = 0\n",
    "\n",
    "        print('### Epoch', self.epochs_completed, '|',\n",
    "              self.elapsed_time(), '|',\n",
    "              self.eta())\n",
    "        print('train_loss', train_loss, 'test_loss', test_loss, 'r2',r2)\n",
    "        print()\n"
   ]
  },
  {
   "cell_type": "markdown",
   "metadata": {},
   "source": [
    "# Running the model"
   ]
  },
  {
   "cell_type": "code",
   "execution_count": 17,
   "metadata": {},
   "outputs": [],
   "source": [
    "model = BigBoy()\n",
    "model_to_load = None # 'model_savs\\\\model.sav'\n",
    "if model_to_load:\n",
    "    if os.path.isfile(model_to_load):\n",
    "        model.load_state_dict(torch.load('model_to_load'))\n",
    "        model.eval()\n",
    "        print('loaded', model_to_load)\n",
    "model.to(device)\n",
    "\n",
    "optimizer = optim.AdamW(model.parameters(), lr=hp.learning_rate)\n",
    "lambda_lr = lambda step: 0.9 ** step\n",
    "scheduler = optim.lr_scheduler.LambdaLR(optimizer, lr_lambda=lambda_lr)\n",
    "criterion = nn.MSELoss()\n",
    "bk = bookkeeper(key_lst = ['epoch', 'train_loss', 'test_loss', 'test_R2'], \n",
    "                total_batches = train_x.shape[0] * hp.num_epochs)"
   ]
  },
  {
   "cell_type": "code",
   "execution_count": 18,
   "metadata": {},
   "outputs": [
    {
     "name": "stdout",
     "output_type": "stream",
     "text": [
      "### Epoch 1 | ELAPSED: 00h 01m 48s | ETA: 23:12:35\n",
      "train_loss 320388123.7082353 test_loss 31429505318912.0 r2 -11800385971023.111\n",
      "\n",
      "### Epoch 2 | ELAPSED: 00h 03m 27s | ETA: 23:14:14\n",
      "train_loss 111250121.48705882 test_loss 7933891619498.667 r2 -7470186010.260177\n",
      "\n",
      "### Epoch 3 | ELAPSED: 00h 05m 07s | ETA: 23:15:54\n",
      "train_loss 101317422.68235295 test_loss 13737598976.0 r2 -239541420.65062836\n",
      "\n",
      "Epoch 3 Batch 008 8420788736.0 | ELAPSED: 00h 06m 03s | ETA: 23:16:50\n",
      "### Epoch 4 | ELAPSED: 00h 06m 46s | ETA: 23:17:33\n",
      "train_loss 117792120.47058824 test_loss 6809673728.0 r2 -92947087.77736253\n",
      "\n",
      "### Epoch 5 | ELAPSED: 00h 08m 24s | ETA: 23:19:11\n",
      "train_loss 95474940.9882353 test_loss 41500175018.666664 r2 -245894747.6772171\n",
      "\n"
     ]
    }
   ],
   "source": [
    "bk.reset_timer()\n",
    "\n",
    "for e in range(hp.num_epochs):\n",
    "    model.train()\n",
    "\n",
    "    running_loss = 0.0\n",
    "\n",
    "    for images, data, target in train_dataloader:\n",
    "        optimizer.zero_grad()\n",
    "\n",
    "        images = images.to(device)\n",
    "        data = data.to(device)\n",
    "        target = target.to(device)\n",
    "\n",
    "        prediction = model(images, data)\n",
    "        loss = criterion(prediction, target)\n",
    "\n",
    "        loss.backward()\n",
    "        optimizer.step()\n",
    "        bk.tick_batch(loss.item())\n",
    "\n",
    "        running_loss += loss.item()\n",
    "    \n",
    "    train_loss = running_loss / train_x.shape[0]\n",
    "\n",
    "    scheduler.step()\n",
    "\n",
    "    ###################################################\n",
    "\n",
    "    model.eval()\n",
    "\n",
    "    test_loss = 0.0\n",
    "    acc_predictions = [] # hold onto predictions and targets for R2\n",
    "    acc_targets = []\n",
    "\n",
    "    with torch.no_grad():\n",
    "        for images, data, target in test_dataloader:\n",
    "\n",
    "            images = images.to(device)\n",
    "            data = data.to(device)\n",
    "            target = target.to(device)\n",
    "\n",
    "            prediction = model(images, data)\n",
    "            test_loss += criterion(prediction, target)\n",
    "\n",
    "            acc_predictions.append(prediction)\n",
    "            acc_targets.append(target)\n",
    "\n",
    "    test_loss = test_loss.item() / len(test_dataloader)\n",
    "    r2 = r2_score(np.concatenate(acc_targets), np.concatenate(acc_predictions))\n",
    "\n",
    "    ###################################################\n",
    "    # bookkeeping\n",
    "    bk.append('epoch', e)\n",
    "    bk.append('train_loss', train_loss)\n",
    "    bk.append('test_loss', test_loss)\n",
    "    bk.append('test_R2', r2)  \n",
    "    bk.tick_epoch(train_loss, test_loss, r2)\n",
    "\n",
    "    # save model every epoch\n",
    "    if hp.sav_model_epoch:\n",
    "        torch.save(model.state_dict(), f\"data\\\\model_epoch{e+1}.sav\")\n",
    "\n"
   ]
  },
  {
   "cell_type": "code",
   "execution_count": 19,
   "metadata": {},
   "outputs": [
    {
     "data": {
      "image/png": "[encoded data removed]",
      "text/plain": [
       "<Figure size 640x480 with 1 Axes>"
      ]
     },
     "metadata": {},
     "output_type": "display_data"
    },
    {
     "data": {
      "image/png": "[encoded data removed]",
      "text/plain": [
       "<Figure size 640x480 with 1 Axes>"
      ]
     },
     "metadata": {},
     "output_type": "display_data"
    },
    {
     "data": {
      "image/png": "[encoded data removed]",
      "text/plain": [
       "<Figure size 640x480 with 1 Axes>"
      ]
     },
     "metadata": {},
     "output_type": "display_data"
    },
    {
     "data": {
      "image/png": "[encoded data removed]",
      "text/plain": [
       "<Figure size 640x480 with 1 Axes>"
      ]
     },
     "metadata": {},
     "output_type": "display_data"
    }
   ],
   "source": [
    "bk.plot()"
   ]
  }
 ],
 "metadata": {
  "kernelspec": {
   "display_name": "cs480",
   "language": "python",
   "name": "python3"
  },
  "language_info": {
   "codemirror_mode": {
    "name": "ipython",
    "version": 3
   },
   "file_extension": ".py",
   "mimetype": "text/x-python",
   "name": "python",
   "nbconvert_exporter": "python",
   "pygments_lexer": "ipython3",
   "version": "3.10.9"
  }
 },
 "nbformat": 4,
 "nbformat_minor": 2
}
